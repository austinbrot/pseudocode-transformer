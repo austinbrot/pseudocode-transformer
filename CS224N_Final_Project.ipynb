{
  "nbformat": 4,
  "nbformat_minor": 0,
  "metadata": {
    "colab": {
      "name": "CS224N - Final Project.ipynb",
      "provenance": []
    },
    "kernelspec": {
      "name": "python3",
      "display_name": "Python 3"
    }
  },
  "cells": [
    {
      "cell_type": "code",
      "metadata": {
        "id": "Ovy9zb1qpCiD"
      },
      "source": [
        "!pip install transformers\n",
        "!pip install cython\n",
        "!pip install tqdm"
      ],
      "execution_count": null,
      "outputs": []
    },
    {
      "cell_type": "code",
      "metadata": {
        "id": "q-6UIRC8qPtP"
      },
      "source": [
        "import matplotlib.pyplot as plt\n",
        "import numpy\n",
        "import torch\n",
        "import transformers\n",
        "from transformers import EncoderDecoderModel"
      ],
      "execution_count": null,
      "outputs": []
    },
    {
      "cell_type": "code",
      "metadata": {
        "id": "QLkuYHX-qSFe"
      },
      "source": [
        ""
      ],
      "execution_count": null,
      "outputs": []
    }
  ]
}